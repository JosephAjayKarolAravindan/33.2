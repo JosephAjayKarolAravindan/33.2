{
  "nbformat": 4,
  "nbformat_minor": 0,
  "metadata": {
    "colab": {
      "name": "Group11_DataCollection_FinalProject.ipynb",
      "provenance": [],
      "collapsed_sections": [],
      "authorship_tag": "ABX9TyO9Su+Gy/BoQPq3cxKSH1tl",
      "include_colab_link": true
    },
    "kernelspec": {
      "name": "python3",
      "display_name": "Python 3"
    },
    "language_info": {
      "name": "python"
    }
  },
  "cells": [
    {
      "cell_type": "markdown",
      "metadata": {
        "id": "view-in-github",
        "colab_type": "text"
      },
      "source": [
        "<a href=\"https://colab.research.google.com/github/JosephAjayKarolAravindan/33.2/blob/master/Group11_DataCollection_FinalProject.ipynb\" target=\"_parent\"><img src=\"https://colab.research.google.com/assets/colab-badge.svg\" alt=\"Open In Colab\"/></a>"
      ]
    },
    {
      "cell_type": "code",
      "source": [
        "from google.colab import drive\n",
        "drive.mount ('/content/gdrive')"
      ],
      "metadata": {
        "colab": {
          "base_uri": "https://localhost:8080/"
        },
        "id": "R3rEc-H3tyx0",
        "outputId": "c8060d10-c83f-4aa7-97d9-4e52d0d07e8c"
      },
      "execution_count": 148,
      "outputs": [
        {
          "output_type": "stream",
          "name": "stdout",
          "text": [
            "Drive already mounted at /content/gdrive; to attempt to forcibly remount, call drive.mount(\"/content/gdrive\", force_remount=True).\n"
          ]
        }
      ]
    },
    {
      "cell_type": "code",
      "execution_count": 149,
      "metadata": {
        "colab": {
          "base_uri": "https://localhost:8080/"
        },
        "id": "HSJ7qsTRGyy7",
        "outputId": "166a0b4c-40b8-4bf1-dd65-80cd82af9e89"
      },
      "outputs": [
        {
          "output_type": "stream",
          "name": "stdout",
          "text": [
            "\r0% [Working]\r            \rHit:1 http://archive.ubuntu.com/ubuntu bionic InRelease\n",
            "\r0% [Waiting for headers] [Connecting to security.ubuntu.com (185.125.190.39)] [\r                                                                               \rHit:2 https://cloud.r-project.org/bin/linux/ubuntu bionic-cran40/ InRelease\n",
            "Get:3 http://archive.ubuntu.com/ubuntu bionic-updates InRelease [88.7 kB]\n",
            "Ign:4 https://developer.download.nvidia.com/compute/machine-learning/repos/ubuntu1804/x86_64  InRelease\n",
            "Hit:5 https://developer.download.nvidia.com/compute/cuda/repos/ubuntu1804/x86_64  InRelease\n",
            "Hit:6 http://ppa.launchpad.net/c2d4u.team/c2d4u4.0+/ubuntu bionic InRelease\n",
            "Hit:7 https://developer.download.nvidia.com/compute/machine-learning/repos/ubuntu1804/x86_64  Release\n",
            "Get:8 http://archive.ubuntu.com/ubuntu bionic-backports InRelease [74.6 kB]\n",
            "Get:9 http://security.ubuntu.com/ubuntu bionic-security InRelease [88.7 kB]\n",
            "Hit:10 http://ppa.launchpad.net/cran/libgit2/ubuntu bionic InRelease\n",
            "Hit:11 http://ppa.launchpad.net/deadsnakes/ppa/ubuntu bionic InRelease\n",
            "Hit:12 http://ppa.launchpad.net/graphics-drivers/ppa/ubuntu bionic InRelease\n",
            "Get:14 http://archive.ubuntu.com/ubuntu bionic-updates/universe amd64 Packages [2,310 kB]\n",
            "Fetched 2,562 kB in 3s (871 kB/s)\n",
            "Reading package lists... Done\n"
          ]
        }
      ],
      "source": [
        "!apt-get update #update linux\n",
        "!apt-get install openjdk-8-jdk-headless -qq > /dev/null #download and install openjdk\n",
        "!wget -q http://archive.apache.org/dist/spark/spark-3.2.1/spark-3.2.1-bin-hadoop2.7.tgz #download spark binary (gunzip)\n",
        "!tar xf spark-3.2.1-bin-hadoop2.7.tgz #extract the spark package\n",
        "!pip install -q findspark #install the findspark package"
      ]
    },
    {
      "cell_type": "code",
      "source": [
        "#setting the environment variables\n",
        "import os \n",
        "os.environ[\"JAVA_HOME\"] = \"/usr/lib/jvm/java-8-openjdk-amd64\"\n",
        "os.environ[\"SPARK_HOME\"] = \"/content/spark-3.2.1-bin-hadoop2.7\""
      ],
      "metadata": {
        "id": "0wZLiW3xHEBU"
      },
      "execution_count": 150,
      "outputs": []
    },
    {
      "cell_type": "code",
      "source": [
        "import findspark\n",
        "findspark.init()\n",
        "from pyspark import SparkContext\n",
        "\n",
        "sc = SparkContext.getOrCreate()\n",
        "sc"
      ],
      "metadata": {
        "colab": {
          "base_uri": "https://localhost:8080/",
          "height": 196
        },
        "id": "PppEu7VlHE1U",
        "outputId": "1246f909-1913-43e1-d1f0-4a34a376198f"
      },
      "execution_count": 151,
      "outputs": [
        {
          "output_type": "execute_result",
          "data": {
            "text/plain": [
              "<SparkContext master=local[*] appName=pyspark-shell>"
            ],
            "text/html": [
              "\n",
              "        <div>\n",
              "            <p><b>SparkContext</b></p>\n",
              "\n",
              "            <p><a href=\"http://0718d4c64130:4040\">Spark UI</a></p>\n",
              "\n",
              "            <dl>\n",
              "              <dt>Version</dt>\n",
              "                <dd><code>v3.2.1</code></dd>\n",
              "              <dt>Master</dt>\n",
              "                <dd><code>local[*]</code></dd>\n",
              "              <dt>AppName</dt>\n",
              "                <dd><code>pyspark-shell</code></dd>\n",
              "            </dl>\n",
              "        </div>\n",
              "        "
            ]
          },
          "metadata": {},
          "execution_count": 151
        }
      ]
    },
    {
      "cell_type": "code",
      "source": [
        "from pyspark.sql import SparkSession\n",
        "spark = SparkSession.builder.appName(\"HDFS_Haversine_Fun\").getOrCreate() \n",
        "spark"
      ],
      "metadata": {
        "colab": {
          "base_uri": "https://localhost:8080/",
          "height": 219
        },
        "id": "wwl_lI02HR5l",
        "outputId": "e25961c6-b065-41b0-c5b1-c10ff3af7829"
      },
      "execution_count": 152,
      "outputs": [
        {
          "output_type": "execute_result",
          "data": {
            "text/plain": [
              "<pyspark.sql.session.SparkSession at 0x7f6479bf24d0>"
            ],
            "text/html": [
              "\n",
              "            <div>\n",
              "                <p><b>SparkSession - in-memory</b></p>\n",
              "                \n",
              "        <div>\n",
              "            <p><b>SparkContext</b></p>\n",
              "\n",
              "            <p><a href=\"http://0718d4c64130:4040\">Spark UI</a></p>\n",
              "\n",
              "            <dl>\n",
              "              <dt>Version</dt>\n",
              "                <dd><code>v3.2.1</code></dd>\n",
              "              <dt>Master</dt>\n",
              "                <dd><code>local[*]</code></dd>\n",
              "              <dt>AppName</dt>\n",
              "                <dd><code>pyspark-shell</code></dd>\n",
              "            </dl>\n",
              "        </div>\n",
              "        \n",
              "            </div>\n",
              "        "
            ]
          },
          "metadata": {},
          "execution_count": 152
        }
      ]
    },
    {
      "cell_type": "code",
      "source": [
        "df_house.drop()\n",
        "df_house_final2.drop()\n",
        "df_house_final.drop()\n",
        "df_house_new.drop()\n",
        "df_houseclean.drop()"
      ],
      "metadata": {
        "colab": {
          "base_uri": "https://localhost:8080/"
        },
        "id": "e5AWrutySHog",
        "outputId": "89d623a0-ef48-43b0-a8a0-902a59895ac8"
      },
      "execution_count": 153,
      "outputs": [
        {
          "output_type": "execute_result",
          "data": {
            "text/plain": [
              "DataFrame[longitude: double, latitude: double, housing_median_age: int, total_rooms: int, total_bedrooms: int, population: int, households: int, median_income: double, median_house_value: int, ocean_proximity: string]"
            ]
          },
          "metadata": {},
          "execution_count": 153
        }
      ]
    },
    {
      "cell_type": "code",
      "source": [
        "import numpy as np # linear algebra\n",
        "import pandas as pd # data processing, CSV file I/O (e.g. pd.read_csv)\n",
        "import os\n",
        "import seaborn as sns\n",
        "from pyspark import SparkConf, SparkContext\n",
        "from pyspark.sql import SparkSession, SQLContext\n",
        "from pyspark.sql.types import *\n",
        "import pyspark.sql.functions as F\n",
        "from pyspark.sql.functions import udf, col\n",
        "\n",
        "from pyspark.ml.regression import LinearRegression\n",
        "from pyspark.mllib.evaluation import RegressionMetrics\n",
        "\n",
        "from pyspark.ml.tuning import ParamGridBuilder, CrossValidator, CrossValidatorModel\n",
        "from pyspark.ml.feature import VectorAssembler, StandardScaler\n",
        "from pyspark.ml.evaluation import RegressionEvaluator"
      ],
      "metadata": {
        "id": "TIbtaegiH1Xz"
      },
      "execution_count": 154,
      "outputs": []
    },
    {
      "cell_type": "code",
      "source": [
        "# import pyspark\n",
        "from pyspark.sql import SparkSession\n",
        "spark = SparkSession.builder.getOrCreate() \n",
        "\n",
        "# File location and type\n",
        "path = '/content/gdrive/MyDrive/Data/housing.csv' \n",
        "file_type = \"csv\"\n",
        "\n",
        "# CSV options\n",
        "infer_schema = \"true\"\n",
        "first_row_is_header = \"true\"\n",
        "delimiter = \",\"\n",
        "\n",
        "# Import csv. The applied options are for CSV files. For other file types, these will be ignored.\n",
        "df_house = spark.read.format(file_type) \\\n",
        "  .option(\"inferSchema\", infer_schema) \\\n",
        "  .option(\"header\", first_row_is_header) \\\n",
        "  .option(\"sep\", delimiter) \\\n",
        "  .load(path)\n",
        "\n",
        "df_house.show() #first row object"
      ],
      "metadata": {
        "colab": {
          "base_uri": "https://localhost:8080/"
        },
        "id": "ymecjCLIH2gb",
        "outputId": "c448e4b2-6e75-4aa9-957f-1017607a8229"
      },
      "execution_count": 157,
      "outputs": [
        {
          "output_type": "stream",
          "name": "stdout",
          "text": [
            "+---------+--------+------------------+-----------+--------------+----------+----------+-------------+------------------+---------------+\n",
            "|longitude|latitude|housing_median_age|total_rooms|total_bedrooms|population|households|median_income|median_house_value|ocean_proximity|\n",
            "+---------+--------+------------------+-----------+--------------+----------+----------+-------------+------------------+---------------+\n",
            "|  -122.23|   37.88|                41|        880|           129|       322|       126|       8.3252|            452600|       NEAR BAY|\n",
            "|  -122.22|   37.86|                21|       7099|          1106|      2401|      1138|       8.3014|            358500|       NEAR BAY|\n",
            "|  -122.24|   37.85|                52|       1467|           190|       496|       177|       7.2574|            352100|       NEAR BAY|\n",
            "|  -122.25|   37.85|                52|       1274|           235|       558|       219|       5.6431|            341300|       NEAR BAY|\n",
            "|  -122.25|   37.85|                52|       1627|           280|       565|       259|       3.8462|            342200|       NEAR BAY|\n",
            "|  -122.25|   37.85|                52|        919|           213|       413|       193|       4.0368|            269700|       NEAR BAY|\n",
            "|  -122.25|   37.84|                52|       2535|           489|      1094|       514|       3.6591|            299200|       NEAR BAY|\n",
            "|  -122.25|   37.84|                52|       3104|           687|      1157|       647|         3.12|            241400|       NEAR BAY|\n",
            "|  -122.26|   37.84|                42|       2555|           665|      1206|       595|       2.0804|            226700|       NEAR BAY|\n",
            "|  -122.25|   37.84|                52|       3549|           707|      1551|       714|       3.6912|            261100|       NEAR BAY|\n",
            "|  -122.26|   37.85|                52|       2202|           434|       910|       402|       3.2031|            281500|       NEAR BAY|\n",
            "|  -122.26|   37.85|                52|       3503|           752|      1504|       734|       3.2705|            241800|       NEAR BAY|\n",
            "|  -122.26|   37.85|                52|       2491|           474|      1098|       468|        3.075|            213500|       NEAR BAY|\n",
            "|  -122.26|   37.84|                52|        696|           191|       345|       174|       2.6736|            191300|       NEAR BAY|\n",
            "|  -122.26|   37.85|                52|       2643|           626|      1212|       620|       1.9167|            159200|       NEAR BAY|\n",
            "|  -122.26|   37.85|                50|       1120|           283|       697|       264|        2.125|            140000|       NEAR BAY|\n",
            "|  -122.27|   37.85|                52|       1966|           347|       793|       331|        2.775|            152500|       NEAR BAY|\n",
            "|  -122.27|   37.85|                52|       1228|           293|       648|       303|       2.1202|            155500|       NEAR BAY|\n",
            "|  -122.26|   37.84|                50|       2239|           455|       990|       419|       1.9911|            158700|       NEAR BAY|\n",
            "|  -122.27|   37.84|                52|       1503|           298|       690|       275|       2.6033|            162900|       NEAR BAY|\n",
            "+---------+--------+------------------+-----------+--------------+----------+----------+-------------+------------------+---------------+\n",
            "only showing top 20 rows\n",
            "\n"
          ]
        }
      ]
    },
    {
      "cell_type": "code",
      "source": [
        "df_house.printSchema()"
      ],
      "metadata": {
        "colab": {
          "base_uri": "https://localhost:8080/"
        },
        "id": "3iF8uKz8IJTj",
        "outputId": "560110ba-0326-4c2c-e23d-3f7c181da0e1"
      },
      "execution_count": 158,
      "outputs": [
        {
          "output_type": "stream",
          "name": "stdout",
          "text": [
            "root\n",
            " |-- longitude: double (nullable = true)\n",
            " |-- latitude: double (nullable = true)\n",
            " |-- housing_median_age: integer (nullable = true)\n",
            " |-- total_rooms: integer (nullable = true)\n",
            " |-- total_bedrooms: integer (nullable = true)\n",
            " |-- population: integer (nullable = true)\n",
            " |-- households: integer (nullable = true)\n",
            " |-- median_income: double (nullable = true)\n",
            " |-- median_house_value: integer (nullable = true)\n",
            " |-- ocean_proximity: string (nullable = true)\n",
            "\n"
          ]
        }
      ]
    },
    {
      "cell_type": "code",
      "source": [
        "# convert all strings to float using a User Defined Function\n",
        "\n",
        "from pyspark.sql.functions import col\n",
        "from pyspark.sql.types import StringType,BooleanType,DateType,FloatType\n",
        "\n",
        "df_house_new = df_house.withColumn(\"longitude\",col(\"longitude\").cast(FloatType())) \\\n",
        "   .withColumn(\"latitude\",col(\"latitude\").cast(FloatType())) \\\n",
        "   .withColumn(\"housing_median_age\",col(\"housing_median_age\").cast(FloatType())) \\\n",
        "   .withColumn(\"total_rooms\",col(\"total_rooms\").cast(FloatType())) \\\n",
        "   .withColumn(\"total_bedrooms\",col(\"total_bedrooms\").cast(FloatType())) \\\n",
        "   .withColumn(\"population\",col(\"population\").cast(FloatType())) \\\n",
        "   .withColumn(\"households\",col(\"households\").cast(FloatType())) \\\n",
        "   .withColumn(\"median_income\",col(\"median_income\").cast(FloatType())) \\\n",
        "   .withColumn(\"median_house_value\",col(\"median_house_value\").cast(FloatType()))"
      ],
      "metadata": {
        "id": "GLRBStCIIhVS"
      },
      "execution_count": 159,
      "outputs": []
    },
    {
      "cell_type": "code",
      "source": [
        "df_house_new.printSchema()\n",
        "df_house_new.show(2)"
      ],
      "metadata": {
        "colab": {
          "base_uri": "https://localhost:8080/"
        },
        "id": "w1O-J7NRIxFi",
        "outputId": "ee256182-c715-4384-95f8-ddb4f2c4d146"
      },
      "execution_count": 160,
      "outputs": [
        {
          "output_type": "stream",
          "name": "stdout",
          "text": [
            "root\n",
            " |-- longitude: float (nullable = true)\n",
            " |-- latitude: float (nullable = true)\n",
            " |-- housing_median_age: float (nullable = true)\n",
            " |-- total_rooms: float (nullable = true)\n",
            " |-- total_bedrooms: float (nullable = true)\n",
            " |-- population: float (nullable = true)\n",
            " |-- households: float (nullable = true)\n",
            " |-- median_income: float (nullable = true)\n",
            " |-- median_house_value: float (nullable = true)\n",
            " |-- ocean_proximity: string (nullable = true)\n",
            "\n",
            "+---------+--------+------------------+-----------+--------------+----------+----------+-------------+------------------+---------------+\n",
            "|longitude|latitude|housing_median_age|total_rooms|total_bedrooms|population|households|median_income|median_house_value|ocean_proximity|\n",
            "+---------+--------+------------------+-----------+--------------+----------+----------+-------------+------------------+---------------+\n",
            "|  -122.23|   37.88|              41.0|      880.0|         129.0|     322.0|     126.0|       8.3252|          452600.0|       NEAR BAY|\n",
            "|  -122.22|   37.86|              21.0|     7099.0|        1106.0|    2401.0|    1138.0|       8.3014|          358500.0|       NEAR BAY|\n",
            "+---------+--------+------------------+-----------+--------------+----------+----------+-------------+------------------+---------------+\n",
            "only showing top 2 rows\n",
            "\n"
          ]
        }
      ]
    },
    {
      "cell_type": "code",
      "source": [
        "df_house_new.describe().show()"
      ],
      "metadata": {
        "colab": {
          "base_uri": "https://localhost:8080/"
        },
        "id": "2PtqCIzpK8E6",
        "outputId": "8d1815f1-ce93-4d8c-e059-24502f0bdd71"
      },
      "execution_count": 161,
      "outputs": [
        {
          "output_type": "stream",
          "name": "stdout",
          "text": [
            "+-------+-------------------+-----------------+------------------+------------------+------------------+------------------+-----------------+------------------+------------------+---------------+\n",
            "|summary|          longitude|         latitude|housing_median_age|       total_rooms|    total_bedrooms|        population|       households|     median_income|median_house_value|ocean_proximity|\n",
            "+-------+-------------------+-----------------+------------------+------------------+------------------+------------------+-----------------+------------------+------------------+---------------+\n",
            "|  count|              20640|            20640|             20640|             20640|             20433|             20640|            20640|             20640|             20640|          20640|\n",
            "|   mean|-119.56970444871473|35.63186143109965|28.639486434108527|2635.7630813953488| 537.8705525375618|1425.4767441860465|499.5396802325581|3.8706710030346416|206855.81690891474|           null|\n",
            "| stddev|  2.003531742932898|2.135952380602968| 12.58555761211163|2181.6152515827944|421.38507007403115|  1132.46212176534|382.3297528316098|1.8998217183639696|115395.61587441359|           null|\n",
            "|    min|            -124.35|            32.54|               1.0|               2.0|               1.0|               3.0|              1.0|            0.4999|           14999.0|      <1H OCEAN|\n",
            "|    max|            -114.31|            41.95|              52.0|           39320.0|            6445.0|           35682.0|           6082.0|           15.0001|          500001.0|     NEAR OCEAN|\n",
            "+-------+-------------------+-----------------+------------------+------------------+------------------+------------------+-----------------+------------------+------------------+---------------+\n",
            "\n"
          ]
        }
      ]
    },
    {
      "cell_type": "markdown",
      "source": [
        "# **Data Cleansing - removing null and blank values to get accurate predictions**"
      ],
      "metadata": {
        "id": "8HNd4f9Mvg6r"
      }
    },
    {
      "cell_type": "code",
      "source": [
        "#display null values count for each column as part of data cleansing\n",
        "from pyspark.sql.functions import isnan,when,count, col\n",
        "\n",
        "df_house.select([count(when(isnan(c) | col(c).isNull(),c)).alias(c) for c in df_house.columns]).show()"
      ],
      "metadata": {
        "colab": {
          "base_uri": "https://localhost:8080/"
        },
        "id": "yuV4mTZeRuAw",
        "outputId": "53f8c33d-10c3-4ee6-d669-fd17aadf7fb9"
      },
      "execution_count": 162,
      "outputs": [
        {
          "output_type": "stream",
          "name": "stdout",
          "text": [
            "+---------+--------+------------------+-----------+--------------+----------+----------+-------------+------------------+---------------+\n",
            "|longitude|latitude|housing_median_age|total_rooms|total_bedrooms|population|households|median_income|median_house_value|ocean_proximity|\n",
            "+---------+--------+------------------+-----------+--------------+----------+----------+-------------+------------------+---------------+\n",
            "|        0|       0|                 0|          0|           207|         0|         0|            0|                 0|              0|\n",
            "+---------+--------+------------------+-----------+--------------+----------+----------+-------------+------------------+---------------+\n",
            "\n"
          ]
        }
      ]
    },
    {
      "cell_type": "code",
      "source": [
        "#As total_bedrooms is an important attribute in predicting house price, dropping all rows if total_bedrooms is null\n",
        "df_house=df_house.na.drop(\"all\",subset=['total_bedrooms'])\n",
        "\n",
        "#no null values in the dataframe\n",
        "df_house.select([count(when(isnan(c) | col(c).isNull(),c)).alias(c) for c in df_house.columns]).show()"
      ],
      "metadata": {
        "colab": {
          "base_uri": "https://localhost:8080/"
        },
        "id": "CW-fQ62NRyqI",
        "outputId": "53bdf457-40ca-4b78-c6fc-6840e804f454"
      },
      "execution_count": 167,
      "outputs": [
        {
          "output_type": "stream",
          "name": "stdout",
          "text": [
            "+---------+--------+------------------+-----------+--------------+----------+----------+-------------+------------------+---------------+----------------+-----------------+----------------------+---------------+\n",
            "|longitude|latitude|housing_median_age|total_rooms|total_bedrooms|population|households|median_income|median_house_value|ocean_proximity|medianHouseValue|roomsPerHousehold|populationPerHousehold|bedroomsPerRoom|\n",
            "+---------+--------+------------------+-----------+--------------+----------+----------+-------------+------------------+---------------+----------------+-----------------+----------------------+---------------+\n",
            "|        0|       0|                 0|          0|             0|         0|         0|            0|                 0|              0|               0|                0|                     0|              0|\n",
            "+---------+--------+------------------+-----------+--------------+----------+----------+-------------+------------------+---------------+----------------+-----------------+----------------------+---------------+\n",
            "\n"
          ]
        }
      ]
    },
    {
      "cell_type": "markdown",
      "source": [
        "# **Adding Features**\n",
        "\n",
        "Add more columns such as 'number of bedrooms per room', 'rooms per household'. Also scaling the 'medianHouseValue' by 1000 so it falls within range of other numbers.\n"
      ],
      "metadata": {
        "id": "L20OuBa0LJ7q"
      }
    },
    {
      "cell_type": "code",
      "source": [
        "from pyspark.sql.functions import col\n",
        "\n",
        "df_house = df_house.withColumn('medianHouseValue', col('median_house_value')/100000)\n",
        "\n",
        "# add rooms per household\n",
        "df_house = df_house.withColumn('roomsPerHousehold', col('total_rooms')/col('households'))\n",
        "\n",
        "# add population per household (num people in the home)\n",
        "df_house = df_house.withColumn('populationPerHousehold', col('population')/col('households'))\n",
        "\n",
        "# add bedrooms per room\n",
        "df_house = df_house.withColumn('bedroomsPerRoom', col('total_bedrooms')/col('total_rooms'))\n",
        "\n",
        "df_house.show(3)"
      ],
      "metadata": {
        "colab": {
          "base_uri": "https://localhost:8080/"
        },
        "id": "NouY5AoxLSp6",
        "outputId": "f879a17a-12a1-4ff2-d38c-0a3c16bf19c5"
      },
      "execution_count": 168,
      "outputs": [
        {
          "output_type": "stream",
          "name": "stdout",
          "text": [
            "+---------+--------+------------------+-----------+--------------+----------+----------+-------------+------------------+---------------+----------------+-----------------+----------------------+-------------------+\n",
            "|longitude|latitude|housing_median_age|total_rooms|total_bedrooms|population|households|median_income|median_house_value|ocean_proximity|medianHouseValue|roomsPerHousehold|populationPerHousehold|    bedroomsPerRoom|\n",
            "+---------+--------+------------------+-----------+--------------+----------+----------+-------------+------------------+---------------+----------------+-----------------+----------------------+-------------------+\n",
            "|  -122.23|   37.88|                41|        880|           129|       322|       126|       8.3252|            452600|       NEAR BAY|           4.526|6.984126984126984|    2.5555555555555554|0.14659090909090908|\n",
            "|  -122.22|   37.86|                21|       7099|          1106|      2401|      1138|       8.3014|            358500|       NEAR BAY|           3.585|6.238137082601054|     2.109841827768014|0.15579659106916466|\n",
            "|  -122.24|   37.85|                52|       1467|           190|       496|       177|       7.2574|            352100|       NEAR BAY|           3.521|8.288135593220339|    2.8022598870056497|0.12951601908657123|\n",
            "+---------+--------+------------------+-----------+--------------+----------+----------+-------------+------------------+---------------+----------------+-----------------+----------------------+-------------------+\n",
            "only showing top 3 rows\n",
            "\n"
          ]
        }
      ]
    },
    {
      "cell_type": "code",
      "source": [
        "#Re-order columns and split table into label and features\n",
        "\n",
        "df_house_final = df_house.select('medianHouseValue','households','housing_median_age','latitude','longitude',\n",
        " 'median_income','population','total_bedrooms','total_rooms','roomsPerHousehold','populationPerHousehold','bedroomsPerRoom')\n",
        "\n",
        "df_house_final.show(3)"
      ],
      "metadata": {
        "colab": {
          "base_uri": "https://localhost:8080/"
        },
        "id": "TQGJl9oBMZY5",
        "outputId": "214547ef-20ac-4fc2-d075-056b1026de05"
      },
      "execution_count": 169,
      "outputs": [
        {
          "output_type": "stream",
          "name": "stdout",
          "text": [
            "+----------------+----------+------------------+--------+---------+-------------+----------+--------------+-----------+-----------------+----------------------+-------------------+\n",
            "|medianHouseValue|households|housing_median_age|latitude|longitude|median_income|population|total_bedrooms|total_rooms|roomsPerHousehold|populationPerHousehold|    bedroomsPerRoom|\n",
            "+----------------+----------+------------------+--------+---------+-------------+----------+--------------+-----------+-----------------+----------------------+-------------------+\n",
            "|           4.526|       126|                41|   37.88|  -122.23|       8.3252|       322|           129|        880|6.984126984126984|    2.5555555555555554|0.14659090909090908|\n",
            "|           3.585|      1138|                21|   37.86|  -122.22|       8.3014|      2401|          1106|       7099|6.238137082601054|     2.109841827768014|0.15579659106916466|\n",
            "|           3.521|       177|                52|   37.85|  -122.24|       7.2574|       496|           190|       1467|8.288135593220339|    2.8022598870056497|0.12951601908657123|\n",
            "+----------------+----------+------------------+--------+---------+-------------+----------+--------------+-----------+-----------------+----------------------+-------------------+\n",
            "only showing top 3 rows\n",
            "\n"
          ]
        }
      ]
    },
    {
      "cell_type": "code",
      "source": [
        "#Average price of house\n",
        "import matplotlib.pyplot as plt\n",
        "df1 = df_house.groupby('total_rooms').avg().sort('total_rooms').select(['total_rooms','avg(medianHouseValue)'])\n",
        "df_p = df1.toPandas()\n",
        "plt.figure(figsize = (15, 8))\n",
        "sns.scatterplot(x = df_p['total_rooms'], y = df_p['avg(medianHouseValue)'] )"
      ],
      "metadata": {
        "colab": {
          "base_uri": "https://localhost:8080/",
          "height": 515
        },
        "id": "pSJaLgEx0qEn",
        "outputId": "53d9d6eb-c3b3-4166-cd92-37ff339fd735"
      },
      "execution_count": 203,
      "outputs": [
        {
          "output_type": "execute_result",
          "data": {
            "text/plain": [
              "<matplotlib.axes._subplots.AxesSubplot at 0x7f6465451890>"
            ]
          },
          "metadata": {},
          "execution_count": 203
        },
        {
          "output_type": "display_data",
          "data": {
            "text/plain": [
              "<Figure size 1080x576 with 1 Axes>"
            ],
            "image/png": "[encoded data removed]"
          },
          "metadata": {
            "needs_background": "light"
          }
        }
      ]
    },
    {
      "cell_type": "code",
      "source": [
        "#Adding a column of per-capita income to the dataframe\n",
        "\n",
        "df_house_per_capita = df_house.withColumn('per_capita_income', df_house['median_income']*10000/df_house['population'])\n",
        "\n",
        "#Per-capita-income and prices of the home\n",
        "df_p = df_house_per_capita.toPandas()\n",
        "sns.scatterplot(x = df_p['per_capita_income'], y = df_p['medianHouseValue'])"
      ],
      "metadata": {
        "colab": {
          "base_uri": "https://localhost:8080/",
          "height": 297
        },
        "id": "_vUR3kua3hOZ",
        "outputId": "2b89cd40-2de0-4585-927c-d6723282c8ed"
      },
      "execution_count": 206,
      "outputs": [
        {
          "output_type": "execute_result",
          "data": {
            "text/plain": [
              "<matplotlib.axes._subplots.AxesSubplot at 0x7f64650c8590>"
            ]
          },
          "metadata": {},
          "execution_count": 206
        },
        {
          "output_type": "display_data",
          "data": {
            "text/plain": [
              "<Figure size 432x288 with 1 Axes>"
            ],
            "image/png": "[encoded data removed]"
          },
          "metadata": {
            "needs_background": "light"
          }
        }
      ]
    },
    {
      "cell_type": "code",
      "source": [
        "df_house.select('ocean_proximity').distinct().show()"
      ],
      "metadata": {
        "colab": {
          "base_uri": "https://localhost:8080/"
        },
        "id": "yQBPpunJ5Gd_",
        "outputId": "53ddd010-2e4b-4e95-a721-89decdee2b99"
      },
      "execution_count": 207,
      "outputs": [
        {
          "output_type": "stream",
          "name": "stdout",
          "text": [
            "+---------------+\n",
            "|ocean_proximity|\n",
            "+---------------+\n",
            "|         ISLAND|\n",
            "|     NEAR OCEAN|\n",
            "|       NEAR BAY|\n",
            "|      <1H OCEAN|\n",
            "|         INLAND|\n",
            "+---------------+\n",
            "\n"
          ]
        }
      ]
    },
    {
      "cell_type": "code",
      "source": [
        "#Where does wealthy people live?\n",
        "df_i = df_house.groupby('ocean_proximity').agg({'median_income' : 'avg'})\n",
        "df_p = df_i.toPandas()\n",
        "sns.barplot(x = df_p['ocean_proximity'], y = df_p['avg(median_income)']*10000)"
      ],
      "metadata": {
        "colab": {
          "base_uri": "https://localhost:8080/",
          "height": 297
        },
        "id": "dk8zUn6C5J-G",
        "outputId": "c5d8a5b9-1136-449f-a058-5c0c105f5c31"
      },
      "execution_count": 210,
      "outputs": [
        {
          "output_type": "execute_result",
          "data": {
            "text/plain": [
              "<matplotlib.axes._subplots.AxesSubplot at 0x7f6461ed3790>"
            ]
          },
          "metadata": {},
          "execution_count": 210
        },
        {
          "output_type": "display_data",
          "data": {
            "text/plain": [
              "<Figure size 432x288 with 1 Axes>"
            ],
            "image/png": "[encoded data removed]"
          },
          "metadata": {
            "needs_background": "light"
          }
        }
      ]
    },
    {
      "cell_type": "code",
      "source": [
        "#Creating a new DataFrame that explicitly labels the columns as labels and features. \n",
        "#DenseVector is used to temporarily convert the data into numpy array and regroup into a named column DataFrame\n",
        "\n",
        "from pyspark.ml.linalg import DenseVector\n",
        "\n",
        "# return a tuple of first column and all other columns\n",
        "temp_data = df_house_final.rdd.map(lambda x:(x[0], DenseVector(x[1:])))\n",
        "\n",
        "#construct back a new DataFrame\n",
        "df_house_final2 = spark.createDataFrame(temp_data, ['label','features'])\n",
        "\n",
        "df_house_final2.show(3)"
      ],
      "metadata": {
        "colab": {
          "base_uri": "https://localhost:8080/"
        },
        "id": "TZS0HvxnNnhJ",
        "outputId": "9881e619-18d2-4f06-d1f4-066e6425224b"
      },
      "execution_count": 170,
      "outputs": [
        {
          "output_type": "stream",
          "name": "stdout",
          "text": [
            "+-----+--------------------+\n",
            "|label|            features|\n",
            "+-----+--------------------+\n",
            "|4.526|[126.0,41.0,37.88...|\n",
            "|3.585|[1138.0,21.0,37.8...|\n",
            "|3.521|[177.0,52.0,37.85...|\n",
            "+-----+--------------------+\n",
            "only showing top 3 rows\n",
            "\n"
          ]
        }
      ]
    },
    {
      "cell_type": "code",
      "source": [
        "#Scaling data by shifting mean to 0 and making SD = 1 to ensures all columns have similar levels of variability\n",
        "\n",
        "\n",
        "# use StandardScaler to scale the features to std normal distribution\n",
        "from pyspark.ml.feature import StandardScaler\n",
        "\n",
        "s_scaler_model = StandardScaler(inputCol='features', outputCol='features_scaled')\n",
        "scaler_fn = s_scaler_model.fit(df_house_final2)\n",
        "scaled_df = scaler_fn.transform(df_house_final2)\n",
        "\n",
        "scaled_df.show(2)"
      ],
      "metadata": {
        "colab": {
          "base_uri": "https://localhost:8080/"
        },
        "id": "RiPSroaTOBWS",
        "outputId": "b9a07208-c0fc-439f-c8f7-cef4e8fe9cbd"
      },
      "execution_count": 171,
      "outputs": [
        {
          "output_type": "stream",
          "name": "stdout",
          "text": [
            "+-----+--------------------+--------------------+\n",
            "|label|            features|     features_scaled|\n",
            "+-----+--------------------+--------------------+\n",
            "|4.526|[126.0,41.0,37.88...|[0.32958476363384...|\n",
            "|3.585|[1138.0,21.0,37.8...|[2.97672588107392...|\n",
            "+-----+--------------------+--------------------+\n",
            "only showing top 2 rows\n",
            "\n"
          ]
        }
      ]
    },
    {
      "cell_type": "markdown",
      "source": [
        "# **Spliting the available data into Test and Training Data to perform regression analysis using Spark**"
      ],
      "metadata": {
        "id": "bpH_TUOcOUta"
      }
    },
    {
      "cell_type": "code",
      "source": [
        "train_data, test_data = scaled_df.randomSplit([.8,.2], seed=101)"
      ],
      "metadata": {
        "id": "W2Nj4nZJOh7h"
      },
      "execution_count": 172,
      "outputs": []
    },
    {
      "cell_type": "code",
      "source": [
        "type(train_data)"
      ],
      "metadata": {
        "colab": {
          "base_uri": "https://localhost:8080/"
        },
        "id": "v8MxhAQ4OqUJ",
        "outputId": "eaf4bf11-f780-4bb3-d82f-552803df18f0"
      },
      "execution_count": 173,
      "outputs": [
        {
          "output_type": "execute_result",
          "data": {
            "text/plain": [
              "pyspark.sql.dataframe.DataFrame"
            ]
          },
          "metadata": {},
          "execution_count": 173
        }
      ]
    },
    {
      "cell_type": "markdown",
      "source": [
        "# **Performing Multiple regression using the Train Data**\n",
        "\n",
        "Train the Model"
      ],
      "metadata": {
        "id": "-lJtFHiUO6DR"
      }
    },
    {
      "cell_type": "code",
      "source": [
        "from pyspark.ml.regression import LinearRegression\n",
        "\n",
        "lr = LinearRegression(labelCol='label', maxIter=20)\n",
        "\n",
        "linear_model = lr.fit(train_data)"
      ],
      "metadata": {
        "id": "0KKT_x8uO_3Y"
      },
      "execution_count": 174,
      "outputs": []
    },
    {
      "cell_type": "code",
      "source": [
        "#Inspecting the Model Properties\n",
        "\n",
        "type(linear_model)"
      ],
      "metadata": {
        "colab": {
          "base_uri": "https://localhost:8080/"
        },
        "id": "DUcaDHk3PK3x",
        "outputId": "73ee6582-134a-4457-e15e-9f2749c357e6"
      },
      "execution_count": 175,
      "outputs": [
        {
          "output_type": "execute_result",
          "data": {
            "text/plain": [
              "pyspark.ml.regression.LinearRegressionModel"
            ]
          },
          "metadata": {},
          "execution_count": 175
        }
      ]
    },
    {
      "cell_type": "code",
      "source": [
        "linear_model.coefficients"
      ],
      "metadata": {
        "colab": {
          "base_uri": "https://localhost:8080/"
        },
        "id": "qx_iYbh2PRGQ",
        "outputId": "337b579d-d693-4116-f52d-912277269a07"
      },
      "execution_count": 176,
      "outputs": [
        {
          "output_type": "execute_result",
          "data": {
            "text/plain": [
              "DenseVector([0.001, 0.0115, -0.4072, -0.4142, 0.429, -0.0004, 0.0002, 0.0, 0.0279, 0.0005, 3.1984])"
            ]
          },
          "metadata": {},
          "execution_count": 176
        }
      ]
    },
    {
      "cell_type": "code",
      "source": [
        "#Printing the columns and their respective coefficients\n",
        "\n",
        "list(zip(df_house.columns[1:], linear_model.coefficients))"
      ],
      "metadata": {
        "colab": {
          "base_uri": "https://localhost:8080/"
        },
        "id": "RM8Nmrh3PTkI",
        "outputId": "cf61d2db-e7f7-45e7-d5fb-2b4600f85ad4"
      },
      "execution_count": 177,
      "outputs": [
        {
          "output_type": "execute_result",
          "data": {
            "text/plain": [
              "[('latitude', 0.0009632549726613179),\n",
              " ('housing_median_age', 0.011542289290318242),\n",
              " ('total_rooms', -0.40724809585599775),\n",
              " ('total_bedrooms', -0.41424900580001756),\n",
              " ('population', 0.42897524626618294),\n",
              " ('households', -0.00039447320442792137),\n",
              " ('median_income', 0.0002252269946133903),\n",
              " ('median_house_value', 1.6148631485888126e-05),\n",
              " ('ocean_proximity', 0.027911985007529384),\n",
              " ('medianHouseValue', 0.0005362711904938804),\n",
              " ('roomsPerHousehold', 3.1984326482623224)]"
            ]
          },
          "metadata": {},
          "execution_count": 177
        }
      ]
    },
    {
      "cell_type": "code",
      "source": [
        "linear_model.intercept"
      ],
      "metadata": {
        "colab": {
          "base_uri": "https://localhost:8080/"
        },
        "id": "n0w5S6MsTCSh",
        "outputId": "907f285c-950c-4c6c-aaf5-4f1d81fadb4c"
      },
      "execution_count": 178,
      "outputs": [
        {
          "output_type": "execute_result",
          "data": {
            "text/plain": [
              "-35.856707890326"
            ]
          },
          "metadata": {},
          "execution_count": 178
        }
      ]
    },
    {
      "cell_type": "code",
      "source": [
        "linear_model.summary.numInstances"
      ],
      "metadata": {
        "colab": {
          "base_uri": "https://localhost:8080/"
        },
        "id": "CzvohUTATElf",
        "outputId": "aecfe743-f6ed-4a7d-9e95-4b08e4872adb"
      },
      "execution_count": 179,
      "outputs": [
        {
          "output_type": "execute_result",
          "data": {
            "text/plain": [
              "16378"
            ]
          },
          "metadata": {},
          "execution_count": 179
        }
      ]
    },
    {
      "cell_type": "markdown",
      "source": [
        "# **MAE from training data**"
      ],
      "metadata": {
        "id": "MGx_5HV5TG6o"
      }
    },
    {
      "cell_type": "code",
      "source": [
        "linear_model.summary.meanAbsoluteError * 100000\n",
        "\n",
        "#MAE on training data is off by $50,000"
      ],
      "metadata": {
        "colab": {
          "base_uri": "https://localhost:8080/"
        },
        "id": "UVvBYozVTIcZ",
        "outputId": "8861c248-61a0-4498-a95a-8779b894678a"
      },
      "execution_count": 180,
      "outputs": [
        {
          "output_type": "execute_result",
          "data": {
            "text/plain": [
              "49903.83578077712"
            ]
          },
          "metadata": {},
          "execution_count": 180
        }
      ]
    },
    {
      "cell_type": "code",
      "source": [
        "linear_model.summary.meanSquaredError"
      ],
      "metadata": {
        "colab": {
          "base_uri": "https://localhost:8080/"
        },
        "id": "VF8lGrFqTSAn",
        "outputId": "2b0cdb0c-c8a9-4c34-8dce-c04e4bcb8cec"
      },
      "execution_count": 181,
      "outputs": [
        {
          "output_type": "execute_result",
          "data": {
            "text/plain": [
              "0.4745030439631561"
            ]
          },
          "metadata": {},
          "execution_count": 181
        }
      ]
    },
    {
      "cell_type": "code",
      "source": [
        "linear_model.summary.rootMeanSquaredError * 100000\n",
        "\n",
        "#RMSE shows fitting on training data is off by $68,392"
      ],
      "metadata": {
        "colab": {
          "base_uri": "https://localhost:8080/"
        },
        "id": "AfQNnRXbTVEH",
        "outputId": "7241f8ae-d937-4266-c11a-c506ee673dfb"
      },
      "execution_count": 182,
      "outputs": [
        {
          "output_type": "execute_result",
          "data": {
            "text/plain": [
              "68884.18134544071"
            ]
          },
          "metadata": {},
          "execution_count": 182
        }
      ]
    },
    {
      "cell_type": "code",
      "source": [
        "list(zip(df_house.columns[1:], linear_model.summary.pValues))"
      ],
      "metadata": {
        "colab": {
          "base_uri": "https://localhost:8080/"
        },
        "id": "pF7euEd0TcFA",
        "outputId": "2d164713-7217-429d-fe0c-f803f49e6474"
      },
      "execution_count": 183,
      "outputs": [
        {
          "output_type": "execute_result",
          "data": {
            "text/plain": [
              "[('latitude', 0.0),\n",
              " ('housing_median_age', 0.0),\n",
              " ('total_rooms', 0.0),\n",
              " ('total_bedrooms', 0.0),\n",
              " ('population', 0.0),\n",
              " ('households', 0.0),\n",
              " ('median_income', 0.0112382861177589),\n",
              " ('median_house_value', 0.11851754480742605),\n",
              " ('ocean_proximity', 0.0),\n",
              " ('medianHouseValue', 0.2621564350864998),\n",
              " ('roomsPerHousehold', 0.0),\n",
              " ('populationPerHousehold', 0.0)]"
            ]
          },
          "metadata": {},
          "execution_count": 183
        }
      ]
    },
    {
      "cell_type": "markdown",
      "source": [
        "# **Performing Predictions**"
      ],
      "metadata": {
        "id": "jMBOg9ejTmyB"
      }
    },
    {
      "cell_type": "code",
      "source": [
        "predicted = linear_model.transform(test_data)\n",
        "predicted.columns"
      ],
      "metadata": {
        "colab": {
          "base_uri": "https://localhost:8080/"
        },
        "id": "N_ZHbGVzTpPB",
        "outputId": "9ed4f69d-2aeb-4889-8859-8eb632af7480"
      },
      "execution_count": 184,
      "outputs": [
        {
          "output_type": "execute_result",
          "data": {
            "text/plain": [
              "['label', 'features', 'features_scaled', 'prediction']"
            ]
          },
          "metadata": {},
          "execution_count": 184
        }
      ]
    },
    {
      "cell_type": "code",
      "source": [
        "type(predicted)"
      ],
      "metadata": {
        "colab": {
          "base_uri": "https://localhost:8080/"
        },
        "id": "A6l3zfwNTuNq",
        "outputId": "f216b6c5-6e72-491a-b542-008935e4bb7c"
      },
      "execution_count": 185,
      "outputs": [
        {
          "output_type": "execute_result",
          "data": {
            "text/plain": [
              "pyspark.sql.dataframe.DataFrame"
            ]
          },
          "metadata": {},
          "execution_count": 185
        }
      ]
    },
    {
      "cell_type": "code",
      "source": [
        "test_predictions = predicted.select('prediction').rdd.map(lambda x:x[0])\n",
        "test_labels = predicted.select('label').rdd.map(lambda x:x[0])\n",
        "\n",
        "test_predictions_labels = test_predictions.zip(test_labels)\n",
        "test_predictions_labels_df = spark.createDataFrame(test_predictions_labels,  ['predictions','labels'])\n",
        "\n",
        "test_predictions_labels_df.show(5)"
      ],
      "metadata": {
        "colab": {
          "base_uri": "https://localhost:8080/"
        },
        "id": "MebawPnwTyWB",
        "outputId": "97ee9da5-a9ac-4a2a-9436-d36cbd2a6847"
      },
      "execution_count": 186,
      "outputs": [
        {
          "output_type": "stream",
          "name": "stdout",
          "text": [
            "+-------------------+-------+\n",
            "|        predictions| labels|\n",
            "+-------------------+-------+\n",
            "|  2.296503845761926|0.14999|\n",
            "|  0.819953424466938|    0.3|\n",
            "|-0.2861932983817326|  0.325|\n",
            "|0.46026100679190307|  0.332|\n",
            "| 1.8117428286185273|  0.332|\n",
            "+-------------------+-------+\n",
            "only showing top 5 rows\n",
            "\n"
          ]
        }
      ]
    },
    {
      "cell_type": "markdown",
      "source": [
        "# **Regression Evalution**"
      ],
      "metadata": {
        "id": "giQYPyeBT7Xa"
      }
    },
    {
      "cell_type": "code",
      "source": [
        "from pyspark.ml.evaluation import RegressionEvaluator\n",
        "\n",
        "linear_reg_eval = RegressionEvaluator(predictionCol='predictions', labelCol='labels')"
      ],
      "metadata": {
        "id": "Z9i1sUUkT9-R"
      },
      "execution_count": 194,
      "outputs": []
    },
    {
      "cell_type": "code",
      "source": [
        "linear_reg_eval.evaluate(test_predictions_labels_df)"
      ],
      "metadata": {
        "colab": {
          "base_uri": "https://localhost:8080/"
        },
        "id": "KdhVo-beUBIP",
        "outputId": "5fc48fe2-4fa8-44d1-b3eb-a48b8f6134ca"
      },
      "execution_count": 195,
      "outputs": [
        {
          "output_type": "execute_result",
          "data": {
            "text/plain": [
              "0.6726430443627974"
            ]
          },
          "metadata": {},
          "execution_count": 195
        }
      ]
    },
    {
      "cell_type": "markdown",
      "source": [
        "# **Calculating the Errors - MAE, RMSE**"
      ],
      "metadata": {
        "id": "ft1kkS64UG-3"
      }
    },
    {
      "cell_type": "code",
      "source": [
        "# mean absolute error\n",
        "prediction_mae = linear_reg_eval.evaluate(test_predictions_labels_df, {linear_reg_eval.metricName:'mae'}) * 100000\n",
        "prediction_mae"
      ],
      "metadata": {
        "colab": {
          "base_uri": "https://localhost:8080/"
        },
        "id": "l7swPoyeUNK_",
        "outputId": "f2d91523-20d2-4cfb-a6bf-dfcb90280207"
      },
      "execution_count": 199,
      "outputs": [
        {
          "output_type": "execute_result",
          "data": {
            "text/plain": [
              "49641.26351141326"
            ]
          },
          "metadata": {},
          "execution_count": 199
        }
      ]
    },
    {
      "cell_type": "code",
      "source": [
        "# RMSE\n",
        "prediction_rmse = linear_reg_eval.evaluate(test_predictions_labels_df, {linear_reg_eval.metricName:'rmse'}) * 100000\n",
        "\n",
        "prediction_rmse"
      ],
      "metadata": {
        "colab": {
          "base_uri": "https://localhost:8080/"
        },
        "id": "aQyerl1ZUT53",
        "outputId": "103b4cd0-24a1-4b89-9a62-82023d6730c8"
      },
      "execution_count": 197,
      "outputs": [
        {
          "output_type": "execute_result",
          "data": {
            "text/plain": [
              "68937.21445529436"
            ]
          },
          "metadata": {},
          "execution_count": 197
        }
      ]
    },
    {
      "cell_type": "markdown",
      "source": [
        "# **Compare training vs prediction errors**"
      ],
      "metadata": {
        "id": "ymvc31VxUYtI"
      }
    },
    {
      "cell_type": "code",
      "source": [
        "print('(training error, prediction error)')\n",
        "print((linear_model.summary.rootMeanSquaredError * 100000, prediction_rmse))\n",
        "print((linear_model.summary.meanAbsoluteError * 100000, prediction_mae))"
      ],
      "metadata": {
        "colab": {
          "base_uri": "https://localhost:8080/"
        },
        "id": "XD52tTTPUZ75",
        "outputId": "3d99b643-f656-4f3d-ddbc-0b0b1d277278"
      },
      "execution_count": 200,
      "outputs": [
        {
          "output_type": "stream",
          "name": "stdout",
          "text": [
            "(training error, prediction error)\n",
            "(68884.18134544071, 68937.21445529436)\n",
            "(49903.83578077712, 49641.26351141326)\n"
          ]
        }
      ]
    }
  ]
}